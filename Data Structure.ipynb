{
 "cells": [
  {
   "cell_type": "code",
   "execution_count": null,
   "id": "fa8129f2",
   "metadata": {},
   "outputs": [],
   "source": [
    "Data Structures in Python:\n",
    "    arrangment/collection of data types in perticular format data strcture\n",
    "    list - mutable\n",
    "    tuple - immutable\n",
    "    set - mutable\n",
    "    dict -- mutable\n",
    "    frozenset -- immutable\n",
    "    str -- immuatable"
   ]
  },
  {
   "cell_type": "code",
   "execution_count": null,
   "id": "03962559",
   "metadata": {},
   "outputs": [],
   "source": [
    "45 -- int\n",
    "python -- str\n",
    "78.9 - float"
   ]
  },
  {
   "cell_type": "code",
   "execution_count": null,
   "id": "8fb926c3",
   "metadata": {},
   "outputs": [],
   "source": [
    "list :\n",
    "    it is collection of data types/data\n",
    "    similar -- homogeneous list\n",
    "    different -- hetrogeneous list\n",
    "    denoted by []\n",
    "    it is mutable type DS we can perform insert,delete,update operation\n",
    "    list can contain duplicate elements\n",
    "    \n",
    "    "
   ]
  },
  {
   "cell_type": "code",
   "execution_count": 1,
   "id": "94fcc960",
   "metadata": {},
   "outputs": [],
   "source": [
    "product_id = [101,304,205,7034,670345,6754]"
   ]
  },
  {
   "cell_type": "code",
   "execution_count": 2,
   "id": "98b34cf1",
   "metadata": {},
   "outputs": [
    {
     "data": {
      "text/plain": [
       "list"
      ]
     },
     "execution_count": 2,
     "metadata": {},
     "output_type": "execute_result"
    }
   ],
   "source": [
    "type(product_id)"
   ]
  },
  {
   "cell_type": "code",
   "execution_count": 3,
   "id": "1f302f27",
   "metadata": {},
   "outputs": [],
   "source": [
    "a = 79.6"
   ]
  },
  {
   "cell_type": "code",
   "execution_count": 4,
   "id": "6123ddeb",
   "metadata": {},
   "outputs": [
    {
     "data": {
      "text/plain": [
       "float"
      ]
     },
     "execution_count": 4,
     "metadata": {},
     "output_type": "execute_result"
    }
   ],
   "source": [
    "type(a)"
   ]
  },
  {
   "cell_type": "code",
   "execution_count": 5,
   "id": "0c10cb54",
   "metadata": {},
   "outputs": [],
   "source": [
    "a = 900"
   ]
  },
  {
   "cell_type": "code",
   "execution_count": 6,
   "id": "469cd613",
   "metadata": {},
   "outputs": [
    {
     "data": {
      "text/plain": [
       "int"
      ]
     },
     "execution_count": 6,
     "metadata": {},
     "output_type": "execute_result"
    }
   ],
   "source": [
    "type(a)"
   ]
  },
  {
   "cell_type": "code",
   "execution_count": 7,
   "id": "a93b1030",
   "metadata": {},
   "outputs": [],
   "source": [
    "a = True"
   ]
  },
  {
   "cell_type": "code",
   "execution_count": 8,
   "id": "be9a43f1",
   "metadata": {},
   "outputs": [
    {
     "data": {
      "text/plain": [
       "bool"
      ]
     },
     "execution_count": 8,
     "metadata": {},
     "output_type": "execute_result"
    }
   ],
   "source": [
    "type(a)"
   ]
  },
  {
   "cell_type": "code",
   "execution_count": null,
   "id": "f2916f33",
   "metadata": {},
   "outputs": [],
   "source": [
    "type(variable) :  to check type of variable (data type)"
   ]
  },
  {
   "cell_type": "code",
   "execution_count": 9,
   "id": "a4346210",
   "metadata": {},
   "outputs": [],
   "source": [
    "t = []"
   ]
  },
  {
   "cell_type": "code",
   "execution_count": 10,
   "id": "c4cf17f3",
   "metadata": {},
   "outputs": [
    {
     "data": {
      "text/plain": [
       "list"
      ]
     },
     "execution_count": 10,
     "metadata": {},
     "output_type": "execute_result"
    }
   ],
   "source": [
    "type(t)"
   ]
  },
  {
   "cell_type": "code",
   "execution_count": 11,
   "id": "2676f6b9",
   "metadata": {},
   "outputs": [],
   "source": [
    "emp_id = [101,102,103,104,105]"
   ]
  },
  {
   "cell_type": "code",
   "execution_count": 12,
   "id": "3c2a5eb5",
   "metadata": {},
   "outputs": [
    {
     "data": {
      "text/plain": [
       "list"
      ]
     },
     "execution_count": 12,
     "metadata": {},
     "output_type": "execute_result"
    }
   ],
   "source": [
    "type(emp_id)"
   ]
  },
  {
   "cell_type": "code",
   "execution_count": 13,
   "id": "49e8cbec",
   "metadata": {},
   "outputs": [],
   "source": [
    "personal_details = ['keshav','pune',75000,101,79.86]"
   ]
  },
  {
   "cell_type": "code",
   "execution_count": 14,
   "id": "aea88b63",
   "metadata": {},
   "outputs": [
    {
     "data": {
      "text/plain": [
       "list"
      ]
     },
     "execution_count": 14,
     "metadata": {},
     "output_type": "execute_result"
    }
   ],
   "source": [
    "type(personal_details)"
   ]
  },
  {
   "cell_type": "code",
   "execution_count": null,
   "id": "ce7bc1ba",
   "metadata": {},
   "outputs": [],
   "source": [
    "shift+enter = execute + new cell add"
   ]
  },
  {
   "cell_type": "code",
   "execution_count": null,
   "id": "bf358d94",
   "metadata": {},
   "outputs": [],
   "source": [
    "1000 -- "
   ]
  },
  {
   "cell_type": "code",
   "execution_count": null,
   "id": "699a73ae",
   "metadata": {},
   "outputs": [],
   "source": [
    "mutable:\n",
    "    list\n",
    "    set\n",
    "    dict\n",
    "immutable:\n",
    "    tuple\n",
    "    str\n",
    "    frozenset"
   ]
  },
  {
   "cell_type": "code",
   "execution_count": null,
   "id": "16e25484",
   "metadata": {},
   "outputs": [],
   "source": [
    "list vs tuple \n",
    "[] -- () \n",
    "\n",
    "\n",
    "application --> list/tuple\n",
    "Every --> related to real time work "
   ]
  },
  {
   "cell_type": "code",
   "execution_count": null,
   "id": "4e6be7b9",
   "metadata": {},
   "outputs": [],
   "source": [
    "Operation on list:\n",
    "    element store at index number\n",
    "    \n",
    "    indexing:\n",
    "        forward/positive:\n",
    "            left - right\n",
    "            start = 0 -- len-1\n",
    "            \n",
    "        reverse/negative:\n",
    "            right - left\n",
    "            start = -1  to -len"
   ]
  },
  {
   "cell_type": "code",
   "execution_count": 15,
   "id": "bef0900f",
   "metadata": {},
   "outputs": [
    {
     "data": {
      "text/plain": [
       "[101, 304, 205, 7034, 670345, 6754]"
      ]
     },
     "execution_count": 15,
     "metadata": {},
     "output_type": "execute_result"
    }
   ],
   "source": [
    "product_id"
   ]
  },
  {
   "cell_type": "code",
   "execution_count": 16,
   "id": "d30b1e26",
   "metadata": {},
   "outputs": [
    {
     "data": {
      "text/plain": [
       "7034"
      ]
     },
     "execution_count": 16,
     "metadata": {},
     "output_type": "execute_result"
    }
   ],
   "source": [
    "product_id[3]"
   ]
  },
  {
   "cell_type": "code",
   "execution_count": 17,
   "id": "ff90fac4",
   "metadata": {},
   "outputs": [
    {
     "data": {
      "text/plain": [
       "7034"
      ]
     },
     "execution_count": 17,
     "metadata": {},
     "output_type": "execute_result"
    }
   ],
   "source": [
    "product_id[-3]"
   ]
  },
  {
   "cell_type": "code",
   "execution_count": 18,
   "id": "88d64778",
   "metadata": {},
   "outputs": [
    {
     "data": {
      "text/plain": [
       "6754"
      ]
     },
     "execution_count": 18,
     "metadata": {},
     "output_type": "execute_result"
    }
   ],
   "source": [
    "product_id[-1]"
   ]
  },
  {
   "cell_type": "code",
   "execution_count": 19,
   "id": "2e1a88f2",
   "metadata": {},
   "outputs": [
    {
     "data": {
      "text/plain": [
       "6754"
      ]
     },
     "execution_count": 19,
     "metadata": {},
     "output_type": "execute_result"
    }
   ],
   "source": [
    "product_id[5]"
   ]
  },
  {
   "cell_type": "code",
   "execution_count": 20,
   "id": "1f84c857",
   "metadata": {},
   "outputs": [
    {
     "ename": "IndexError",
     "evalue": "list index out of range",
     "output_type": "error",
     "traceback": [
      "\u001b[1;31m---------------------------------------------------------------------------\u001b[0m",
      "\u001b[1;31mIndexError\u001b[0m                                Traceback (most recent call last)",
      "Input \u001b[1;32mIn [20]\u001b[0m, in \u001b[0;36m<cell line: 1>\u001b[1;34m()\u001b[0m\n\u001b[1;32m----> 1\u001b[0m \u001b[43mproduct_id\u001b[49m\u001b[43m[\u001b[49m\u001b[38;5;241;43m100\u001b[39;49m\u001b[43m]\u001b[49m\n",
      "\u001b[1;31mIndexError\u001b[0m: list index out of range"
     ]
    }
   ],
   "source": [
    "product_id[100]"
   ]
  },
  {
   "cell_type": "code",
   "execution_count": null,
   "id": "a1bd2b1e",
   "metadata": {},
   "outputs": [],
   "source": [
    "Coding --Error \n",
    " program -- types \n"
   ]
  },
  {
   "cell_type": "code",
   "execution_count": null,
   "id": "dff1dc5f",
   "metadata": {},
   "outputs": [],
   "source": [
    "1000 line\n",
    "\n",
    "perticular line -- \n",
    "\n",
    "error"
   ]
  },
  {
   "cell_type": "code",
   "execution_count": null,
   "id": "557e2604",
   "metadata": {},
   "outputs": [],
   "source": [
    "Practice : 2hr \n",
    "    \n",
    "code --> integration --> "
   ]
  },
  {
   "cell_type": "code",
   "execution_count": null,
   "id": "3cad3ea7",
   "metadata": {},
   "outputs": [],
   "source": [
    "Kaggel --ML\n",
    "Vidya analytica"
   ]
  },
  {
   "cell_type": "code",
   "execution_count": null,
   "id": "f471c433",
   "metadata": {},
   "outputs": [],
   "source": [
    "insert\n",
    "append\n",
    "extend\n"
   ]
  },
  {
   "cell_type": "code",
   "execution_count": null,
   "id": "44cd5b2c",
   "metadata": {},
   "outputs": [],
   "source": [
    "Operation:\n",
    "    insertion operation\n",
    "    \n",
    "    1.insert(index,element)\n",
    "         to add new single element at given location/index\n",
    "    2.append(element) \n",
    "        to element add at the end\n",
    "    2.extend\n",
    "        to add multiple element at the end"
   ]
  },
  {
   "cell_type": "code",
   "execution_count": 1,
   "id": "7d8349a1",
   "metadata": {},
   "outputs": [],
   "source": [
    "prdid  = [101, 304, 205, 7034, 670345, 6754]\n"
   ]
  },
  {
   "cell_type": "code",
   "execution_count": 2,
   "id": "0cacdf29",
   "metadata": {},
   "outputs": [
    {
     "data": {
      "text/plain": [
       "[101, 304, 205, 7034, 670345, 6754]"
      ]
     },
     "execution_count": 2,
     "metadata": {},
     "output_type": "execute_result"
    }
   ],
   "source": [
    "prdid"
   ]
  },
  {
   "cell_type": "code",
   "execution_count": 3,
   "id": "d92201e7",
   "metadata": {},
   "outputs": [],
   "source": [
    "prdid.insert(2,500)"
   ]
  },
  {
   "cell_type": "code",
   "execution_count": 4,
   "id": "34511b9d",
   "metadata": {},
   "outputs": [
    {
     "data": {
      "text/plain": [
       "[101, 304, 500, 205, 7034, 670345, 6754]"
      ]
     },
     "execution_count": 4,
     "metadata": {},
     "output_type": "execute_result"
    }
   ],
   "source": [
    "prdid"
   ]
  },
  {
   "cell_type": "code",
   "execution_count": 5,
   "id": "ad06ea1a",
   "metadata": {},
   "outputs": [],
   "source": [
    "prdid.insert(4,'Python')"
   ]
  },
  {
   "cell_type": "code",
   "execution_count": 6,
   "id": "f27f8ae4",
   "metadata": {},
   "outputs": [
    {
     "data": {
      "text/plain": [
       "[101, 304, 500, 205, 'Python', 7034, 670345, 6754]"
      ]
     },
     "execution_count": 6,
     "metadata": {},
     "output_type": "execute_result"
    }
   ],
   "source": [
    "prdid"
   ]
  },
  {
   "cell_type": "code",
   "execution_count": 7,
   "id": "a96d1ac4",
   "metadata": {},
   "outputs": [],
   "source": [
    "prdid.insert(-3,'Java')"
   ]
  },
  {
   "cell_type": "code",
   "execution_count": 8,
   "id": "b6c967b5",
   "metadata": {},
   "outputs": [
    {
     "data": {
      "text/plain": [
       "[101, 304, 500, 205, 'Python', 'Java', 7034, 670345, 6754]"
      ]
     },
     "execution_count": 8,
     "metadata": {},
     "output_type": "execute_result"
    }
   ],
   "source": [
    "prdid"
   ]
  },
  {
   "cell_type": "code",
   "execution_count": 9,
   "id": "a4908333",
   "metadata": {},
   "outputs": [
    {
     "data": {
      "text/plain": [
       "[101, 304, 500, 205, 'Python', 'Java', 7034, 670345, 6754]"
      ]
     },
     "execution_count": 9,
     "metadata": {},
     "output_type": "execute_result"
    }
   ],
   "source": [
    "prdid"
   ]
  },
  {
   "cell_type": "code",
   "execution_count": 10,
   "id": "361f6dac",
   "metadata": {},
   "outputs": [],
   "source": [
    "prdid.insert(1,900)"
   ]
  },
  {
   "cell_type": "code",
   "execution_count": 11,
   "id": "200ca6d9",
   "metadata": {},
   "outputs": [
    {
     "data": {
      "text/plain": [
       "[101, 900, 304, 500, 205, 'Python', 'Java', 7034, 670345, 6754]"
      ]
     },
     "execution_count": 11,
     "metadata": {},
     "output_type": "execute_result"
    }
   ],
   "source": [
    "prdid"
   ]
  },
  {
   "cell_type": "code",
   "execution_count": 12,
   "id": "403fa3bb",
   "metadata": {},
   "outputs": [],
   "source": [
    "prdid.insert(945,2)"
   ]
  },
  {
   "cell_type": "code",
   "execution_count": 13,
   "id": "9beec665",
   "metadata": {},
   "outputs": [
    {
     "data": {
      "text/plain": [
       "[101, 900, 304, 500, 205, 'Python', 'Java', 7034, 670345, 6754, 2]"
      ]
     },
     "execution_count": 13,
     "metadata": {},
     "output_type": "execute_result"
    }
   ],
   "source": [
    "prdid"
   ]
  },
  {
   "cell_type": "code",
   "execution_count": 14,
   "id": "c7fba695",
   "metadata": {},
   "outputs": [
    {
     "data": {
      "text/plain": [
       "11"
      ]
     },
     "execution_count": 14,
     "metadata": {},
     "output_type": "execute_result"
    }
   ],
   "source": [
    "len(prdid)"
   ]
  },
  {
   "cell_type": "code",
   "execution_count": 15,
   "id": "afb5d876",
   "metadata": {},
   "outputs": [],
   "source": [
    "prdid.insert(len(prdid)+1,978)"
   ]
  },
  {
   "cell_type": "code",
   "execution_count": 16,
   "id": "9d7aba4e",
   "metadata": {},
   "outputs": [
    {
     "data": {
      "text/plain": [
       "[101, 900, 304, 500, 205, 'Python', 'Java', 7034, 670345, 6754, 2, 978]"
      ]
     },
     "execution_count": 16,
     "metadata": {},
     "output_type": "execute_result"
    }
   ],
   "source": [
    "prdid"
   ]
  },
  {
   "cell_type": "code",
   "execution_count": 18,
   "id": "1648af8b",
   "metadata": {},
   "outputs": [
    {
     "ename": "TypeError",
     "evalue": "insert expected 2 arguments, got 1",
     "output_type": "error",
     "traceback": [
      "\u001b[1;31m---------------------------------------------------------------------------\u001b[0m",
      "\u001b[1;31mTypeError\u001b[0m                                 Traceback (most recent call last)",
      "Input \u001b[1;32mIn [18]\u001b[0m, in \u001b[0;36m<cell line: 1>\u001b[1;34m()\u001b[0m\n\u001b[1;32m----> 1\u001b[0m \u001b[43mprdid\u001b[49m\u001b[38;5;241;43m.\u001b[39;49m\u001b[43minsert\u001b[49m\u001b[43m(\u001b[49m\u001b[38;5;241;43m7878\u001b[39;49m\u001b[43m)\u001b[49m\n",
      "\u001b[1;31mTypeError\u001b[0m: insert expected 2 arguments, got 1"
     ]
    }
   ],
   "source": [
    "prdid.insert(7878)"
   ]
  },
  {
   "cell_type": "code",
   "execution_count": 19,
   "id": "70c6ba39",
   "metadata": {},
   "outputs": [
    {
     "data": {
      "text/plain": [
       "[101, 900, 304, 500, 205, 'Python', 'Java', 7034, 670345, 6754, 2, 978]"
      ]
     },
     "execution_count": 19,
     "metadata": {},
     "output_type": "execute_result"
    }
   ],
   "source": [
    "prdid "
   ]
  },
  {
   "cell_type": "code",
   "execution_count": 20,
   "id": "eff20cf0",
   "metadata": {},
   "outputs": [],
   "source": [
    "prdid.append('Hadoop')"
   ]
  },
  {
   "cell_type": "code",
   "execution_count": 21,
   "id": "2e5056b1",
   "metadata": {},
   "outputs": [
    {
     "data": {
      "text/plain": [
       "[101,\n",
       " 900,\n",
       " 304,\n",
       " 500,\n",
       " 205,\n",
       " 'Python',\n",
       " 'Java',\n",
       " 7034,\n",
       " 670345,\n",
       " 6754,\n",
       " 2,\n",
       " 978,\n",
       " 'Hadoop']"
      ]
     },
     "execution_count": 21,
     "metadata": {},
     "output_type": "execute_result"
    }
   ],
   "source": [
    "prdid"
   ]
  },
  {
   "cell_type": "code",
   "execution_count": 22,
   "id": "a7b3c127",
   "metadata": {},
   "outputs": [],
   "source": [
    "p = [1,2,6,2]"
   ]
  },
  {
   "cell_type": "code",
   "execution_count": 23,
   "id": "2c053585",
   "metadata": {},
   "outputs": [],
   "source": [
    "p.append(100)"
   ]
  },
  {
   "cell_type": "code",
   "execution_count": 24,
   "id": "0ce01044",
   "metadata": {},
   "outputs": [
    {
     "data": {
      "text/plain": [
       "[1, 2, 6, 2, 100]"
      ]
     },
     "execution_count": 24,
     "metadata": {},
     "output_type": "execute_result"
    }
   ],
   "source": [
    "p"
   ]
  },
  {
   "cell_type": "code",
   "execution_count": 25,
   "id": "d22d9e48",
   "metadata": {},
   "outputs": [
    {
     "data": {
      "text/plain": [
       "[1, 2, 6, 2, 100]"
      ]
     },
     "execution_count": 25,
     "metadata": {},
     "output_type": "execute_result"
    }
   ],
   "source": [
    "p"
   ]
  },
  {
   "cell_type": "code",
   "execution_count": 26,
   "id": "49fff558",
   "metadata": {},
   "outputs": [],
   "source": [
    "p.extend([100,200,300,400,500])"
   ]
  },
  {
   "cell_type": "code",
   "execution_count": 27,
   "id": "ba252e38",
   "metadata": {},
   "outputs": [
    {
     "data": {
      "text/plain": [
       "[1, 2, 6, 2, 100, 100, 200, 300, 400, 500]"
      ]
     },
     "execution_count": 27,
     "metadata": {},
     "output_type": "execute_result"
    }
   ],
   "source": [
    "p"
   ]
  },
  {
   "cell_type": "code",
   "execution_count": 30,
   "id": "57d90c24",
   "metadata": {},
   "outputs": [],
   "source": [
    "p.extend([5500])"
   ]
  },
  {
   "cell_type": "code",
   "execution_count": 31,
   "id": "5df43762",
   "metadata": {},
   "outputs": [
    {
     "data": {
      "text/plain": [
       "[1, 2, 6, 2, 100, 100, 200, 300, 400, 500, 500, 5500]"
      ]
     },
     "execution_count": 31,
     "metadata": {},
     "output_type": "execute_result"
    }
   ],
   "source": [
    "p"
   ]
  },
  {
   "cell_type": "code",
   "execution_count": 32,
   "id": "2ae4a145",
   "metadata": {},
   "outputs": [],
   "source": [
    "p.insert(0,'new element')"
   ]
  },
  {
   "cell_type": "code",
   "execution_count": 33,
   "id": "46a0b567",
   "metadata": {},
   "outputs": [
    {
     "data": {
      "text/plain": [
       "['new element', 1, 2, 6, 2, 100, 100, 200, 300, 400, 500, 500, 5500]"
      ]
     },
     "execution_count": 33,
     "metadata": {},
     "output_type": "execute_result"
    }
   ],
   "source": [
    "p"
   ]
  },
  {
   "cell_type": "code",
   "execution_count": 34,
   "id": "4d51471a",
   "metadata": {},
   "outputs": [],
   "source": [
    "p = [100,200,300]"
   ]
  },
  {
   "cell_type": "code",
   "execution_count": 35,
   "id": "ffed8daa",
   "metadata": {},
   "outputs": [],
   "source": [
    "p.append([1,2,3])  # single element add"
   ]
  },
  {
   "cell_type": "code",
   "execution_count": 36,
   "id": "6c48a400",
   "metadata": {},
   "outputs": [
    {
     "data": {
      "text/plain": [
       "[100, 200, 300, [1, 2, 3]]"
      ]
     },
     "execution_count": 36,
     "metadata": {},
     "output_type": "execute_result"
    }
   ],
   "source": [
    "p"
   ]
  },
  {
   "cell_type": "code",
   "execution_count": 37,
   "id": "6818d885",
   "metadata": {},
   "outputs": [
    {
     "data": {
      "text/plain": [
       "[1, 2, 3]"
      ]
     },
     "execution_count": 37,
     "metadata": {},
     "output_type": "execute_result"
    }
   ],
   "source": [
    "p[3]"
   ]
  },
  {
   "cell_type": "code",
   "execution_count": 38,
   "id": "2f53fbcb",
   "metadata": {},
   "outputs": [],
   "source": [
    "p.extend([791,16,49,49,21,9654,94,9,6,16,1,])# --> method --> "
   ]
  },
  {
   "cell_type": "code",
   "execution_count": 39,
   "id": "27a4e267",
   "metadata": {},
   "outputs": [
    {
     "data": {
      "text/plain": [
       "[100, 200, 300, [1, 2, 3], 791, 16, 49, 49, 21, 9654, 94, 9, 6, 16, 1]"
      ]
     },
     "execution_count": 39,
     "metadata": {},
     "output_type": "execute_result"
    }
   ],
   "source": [
    "p"
   ]
  },
  {
   "cell_type": "code",
   "execution_count": 40,
   "id": "97b6b374",
   "metadata": {},
   "outputs": [],
   "source": [
    "p = [1,2,3]"
   ]
  },
  {
   "cell_type": "code",
   "execution_count": 41,
   "id": "8603adcc",
   "metadata": {},
   "outputs": [],
   "source": [
    "p.extend([[11,22,33],[44,55,66]])"
   ]
  },
  {
   "cell_type": "code",
   "execution_count": 42,
   "id": "87ff7f2c",
   "metadata": {},
   "outputs": [
    {
     "data": {
      "text/plain": [
       "[1, 2, 3, [11, 22, 33], [44, 55, 66]]"
      ]
     },
     "execution_count": 42,
     "metadata": {},
     "output_type": "execute_result"
    }
   ],
   "source": [
    "p"
   ]
  },
  {
   "cell_type": "code",
   "execution_count": 45,
   "id": "d17d8147",
   "metadata": {},
   "outputs": [],
   "source": [
    "p1 = [1,4,864]"
   ]
  },
  {
   "cell_type": "code",
   "execution_count": 46,
   "id": "9d0a1d42",
   "metadata": {},
   "outputs": [],
   "source": [
    "p2= [500,400,600]"
   ]
  },
  {
   "cell_type": "code",
   "execution_count": 47,
   "id": "36becc67",
   "metadata": {},
   "outputs": [],
   "source": [
    "p1.extend(p2)"
   ]
  },
  {
   "cell_type": "code",
   "execution_count": 48,
   "id": "45b1f20b",
   "metadata": {},
   "outputs": [
    {
     "data": {
      "text/plain": [
       "[1, 4, 864, 500, 400, 600]"
      ]
     },
     "execution_count": 48,
     "metadata": {},
     "output_type": "execute_result"
    }
   ],
   "source": [
    "p1"
   ]
  },
  {
   "cell_type": "code",
   "execution_count": 49,
   "id": "5177fc91",
   "metadata": {},
   "outputs": [
    {
     "data": {
      "text/plain": [
       "[1, 2, 3, [11, 22, 33], [44, 55, 66]]"
      ]
     },
     "execution_count": 49,
     "metadata": {},
     "output_type": "execute_result"
    }
   ],
   "source": [
    "p"
   ]
  },
  {
   "cell_type": "code",
   "execution_count": 51,
   "id": "e5bdd7c1",
   "metadata": {},
   "outputs": [
    {
     "data": {
      "text/plain": [
       "66"
      ]
     },
     "execution_count": 51,
     "metadata": {},
     "output_type": "execute_result"
    }
   ],
   "source": [
    "p[4][2]"
   ]
  },
  {
   "cell_type": "code",
   "execution_count": 53,
   "id": "2d55a447",
   "metadata": {},
   "outputs": [
    {
     "data": {
      "text/plain": [
       "66"
      ]
     },
     "execution_count": 53,
     "metadata": {},
     "output_type": "execute_result"
    }
   ],
   "source": [
    "p[-1][-1]"
   ]
  },
  {
   "cell_type": "code",
   "execution_count": null,
   "id": "f8467ba5",
   "metadata": {},
   "outputs": [],
   "source": [
    "deletion operation:\n",
    "    1.remove-- delete element by using value \n",
    "    2.pop --  delete element by using index number\n",
    "    3.clear"
   ]
  },
  {
   "cell_type": "code",
   "execution_count": 54,
   "id": "00deee7b",
   "metadata": {},
   "outputs": [
    {
     "data": {
      "text/plain": [
       "[1, 2, 3, [11, 22, 33], [44, 55, 66]]"
      ]
     },
     "execution_count": 54,
     "metadata": {},
     "output_type": "execute_result"
    }
   ],
   "source": [
    "p"
   ]
  },
  {
   "cell_type": "code",
   "execution_count": 55,
   "id": "c1b7743a",
   "metadata": {},
   "outputs": [
    {
     "data": {
      "text/plain": [
       "[1, 4, 864, 500, 400, 600]"
      ]
     },
     "execution_count": 55,
     "metadata": {},
     "output_type": "execute_result"
    }
   ],
   "source": [
    "p1"
   ]
  },
  {
   "cell_type": "code",
   "execution_count": 56,
   "id": "06084608",
   "metadata": {},
   "outputs": [],
   "source": [
    "p1.remove(500)"
   ]
  },
  {
   "cell_type": "code",
   "execution_count": 57,
   "id": "48fa12b1",
   "metadata": {},
   "outputs": [
    {
     "data": {
      "text/plain": [
       "[1, 4, 864, 400, 600]"
      ]
     },
     "execution_count": 57,
     "metadata": {},
     "output_type": "execute_result"
    }
   ],
   "source": [
    "p1"
   ]
  },
  {
   "cell_type": "code",
   "execution_count": 58,
   "id": "6c810fd7",
   "metadata": {},
   "outputs": [],
   "source": [
    "p1 = [100,564,100,500,34]"
   ]
  },
  {
   "cell_type": "code",
   "execution_count": 59,
   "id": "2849e16d",
   "metadata": {},
   "outputs": [],
   "source": [
    "p1.remove(100)"
   ]
  },
  {
   "cell_type": "code",
   "execution_count": 60,
   "id": "283fb93e",
   "metadata": {},
   "outputs": [
    {
     "data": {
      "text/plain": [
       "[564, 100, 500, 34]"
      ]
     },
     "execution_count": 60,
     "metadata": {},
     "output_type": "execute_result"
    }
   ],
   "source": [
    "p1"
   ]
  },
  {
   "cell_type": "code",
   "execution_count": 61,
   "id": "e9ff51d3",
   "metadata": {},
   "outputs": [],
   "source": [
    "p = [1,1,11,1,1,1,1,11,5,46,467,54,234,67,44,36,57,354,7,566,56,567,3,445,467,56,345,4564]"
   ]
  },
  {
   "cell_type": "code",
   "execution_count": 64,
   "id": "0426b3c6",
   "metadata": {},
   "outputs": [
    {
     "data": {
      "text/plain": [
       "6"
      ]
     },
     "execution_count": 64,
     "metadata": {},
     "output_type": "execute_result"
    }
   ],
   "source": [
    "p.count(1)"
   ]
  },
  {
   "cell_type": "code",
   "execution_count": 66,
   "id": "62a896ba",
   "metadata": {},
   "outputs": [
    {
     "data": {
      "text/plain": [
       "0"
      ]
     },
     "execution_count": 66,
     "metadata": {},
     "output_type": "execute_result"
    }
   ],
   "source": [
    "p.count(450)"
   ]
  },
  {
   "cell_type": "code",
   "execution_count": 67,
   "id": "05c774f6",
   "metadata": {},
   "outputs": [
    {
     "data": {
      "text/plain": [
       "[564, 100, 500, 34]"
      ]
     },
     "execution_count": 67,
     "metadata": {},
     "output_type": "execute_result"
    }
   ],
   "source": [
    "p1"
   ]
  },
  {
   "cell_type": "code",
   "execution_count": 68,
   "id": "1f34834e",
   "metadata": {},
   "outputs": [
    {
     "data": {
      "text/plain": [
       "100"
      ]
     },
     "execution_count": 68,
     "metadata": {},
     "output_type": "execute_result"
    }
   ],
   "source": [
    "p1.pop(1)"
   ]
  },
  {
   "cell_type": "code",
   "execution_count": 69,
   "id": "2f690e20",
   "metadata": {},
   "outputs": [
    {
     "data": {
      "text/plain": [
       "[564, 500, 34]"
      ]
     },
     "execution_count": 69,
     "metadata": {},
     "output_type": "execute_result"
    }
   ],
   "source": [
    "p1"
   ]
  },
  {
   "cell_type": "code",
   "execution_count": 70,
   "id": "4ec4f511",
   "metadata": {},
   "outputs": [
    {
     "data": {
      "text/plain": [
       "564"
      ]
     },
     "execution_count": 70,
     "metadata": {},
     "output_type": "execute_result"
    }
   ],
   "source": [
    "p1.pop(0)"
   ]
  },
  {
   "cell_type": "code",
   "execution_count": 71,
   "id": "e13dcbb3",
   "metadata": {},
   "outputs": [
    {
     "data": {
      "text/plain": [
       "[500, 34]"
      ]
     },
     "execution_count": 71,
     "metadata": {},
     "output_type": "execute_result"
    }
   ],
   "source": [
    "p1"
   ]
  },
  {
   "cell_type": "code",
   "execution_count": 73,
   "id": "aa133e13",
   "metadata": {},
   "outputs": [
    {
     "data": {
      "text/plain": [
       "34"
      ]
     },
     "execution_count": 73,
     "metadata": {},
     "output_type": "execute_result"
    }
   ],
   "source": [
    "p1.pop(1)"
   ]
  },
  {
   "cell_type": "code",
   "execution_count": 74,
   "id": "25d4a434",
   "metadata": {},
   "outputs": [
    {
     "data": {
      "text/plain": [
       "[500]"
      ]
     },
     "execution_count": 74,
     "metadata": {},
     "output_type": "execute_result"
    }
   ],
   "source": [
    "p1"
   ]
  },
  {
   "cell_type": "code",
   "execution_count": 76,
   "id": "ef9073b7",
   "metadata": {},
   "outputs": [],
   "source": [
    "p.clear()"
   ]
  },
  {
   "cell_type": "code",
   "execution_count": 77,
   "id": "805efd2b",
   "metadata": {},
   "outputs": [
    {
     "data": {
      "text/plain": [
       "[]"
      ]
     },
     "execution_count": 77,
     "metadata": {},
     "output_type": "execute_result"
    }
   ],
   "source": [
    "p"
   ]
  },
  {
   "cell_type": "code",
   "execution_count": null,
   "id": "2a3a03d5",
   "metadata": {},
   "outputs": [],
   "source": [
    "insert\n",
    "append\n",
    "extend\n",
    "pop\n",
    "remove\n",
    "clear\n",
    "count"
   ]
  },
  {
   "cell_type": "code",
   "execution_count": 78,
   "id": "ae14c8ea",
   "metadata": {},
   "outputs": [],
   "source": [
    "p = [1,64,23,675]"
   ]
  },
  {
   "cell_type": "code",
   "execution_count": 79,
   "id": "6b693123",
   "metadata": {},
   "outputs": [],
   "source": [
    "p[2] = 25"
   ]
  },
  {
   "cell_type": "code",
   "execution_count": 80,
   "id": "e8e6337c",
   "metadata": {},
   "outputs": [
    {
     "data": {
      "text/plain": [
       "[1, 64, 25, 675]"
      ]
     },
     "execution_count": 80,
     "metadata": {},
     "output_type": "execute_result"
    }
   ],
   "source": [
    "p"
   ]
  },
  {
   "cell_type": "code",
   "execution_count": 1,
   "id": "724c88d8",
   "metadata": {},
   "outputs": [],
   "source": [
    "p = [1, 64, 25, 675]"
   ]
  },
  {
   "cell_type": "code",
   "execution_count": null,
   "id": "3f66628f",
   "metadata": {},
   "outputs": [],
   "source": [
    "p.insert(index,element)"
   ]
  },
  {
   "cell_type": "code",
   "execution_count": 2,
   "id": "9d278576",
   "metadata": {},
   "outputs": [],
   "source": [
    "p.insert(4,900)"
   ]
  },
  {
   "cell_type": "code",
   "execution_count": 3,
   "id": "2907c4ec",
   "metadata": {},
   "outputs": [
    {
     "data": {
      "text/plain": [
       "[1, 64, 25, 675, 900]"
      ]
     },
     "execution_count": 3,
     "metadata": {},
     "output_type": "execute_result"
    }
   ],
   "source": [
    "p"
   ]
  },
  {
   "cell_type": "code",
   "execution_count": 4,
   "id": "6b5be608",
   "metadata": {},
   "outputs": [],
   "source": [
    "p.insert(78948484,888)"
   ]
  },
  {
   "cell_type": "code",
   "execution_count": 5,
   "id": "3ddd314e",
   "metadata": {},
   "outputs": [
    {
     "data": {
      "text/plain": [
       "[1, 64, 25, 675, 900, 888]"
      ]
     },
     "execution_count": 5,
     "metadata": {},
     "output_type": "execute_result"
    }
   ],
   "source": [
    "p"
   ]
  },
  {
   "cell_type": "code",
   "execution_count": 6,
   "id": "1ec75561",
   "metadata": {},
   "outputs": [
    {
     "data": {
      "text/plain": [
       "[1, 64, 25, 675, 900, 888]"
      ]
     },
     "execution_count": 6,
     "metadata": {},
     "output_type": "execute_result"
    }
   ],
   "source": [
    "p"
   ]
  },
  {
   "cell_type": "code",
   "execution_count": 7,
   "id": "20bf961f",
   "metadata": {},
   "outputs": [],
   "source": [
    "p.clear()"
   ]
  },
  {
   "cell_type": "code",
   "execution_count": 8,
   "id": "e14eb13a",
   "metadata": {},
   "outputs": [
    {
     "data": {
      "text/plain": [
       "[]"
      ]
     },
     "execution_count": 8,
     "metadata": {},
     "output_type": "execute_result"
    }
   ],
   "source": [
    "p"
   ]
  },
  {
   "cell_type": "code",
   "execution_count": 9,
   "id": "7f2825ce",
   "metadata": {},
   "outputs": [],
   "source": [
    "p.append(100)"
   ]
  },
  {
   "cell_type": "code",
   "execution_count": 10,
   "id": "202b55bb",
   "metadata": {},
   "outputs": [
    {
     "data": {
      "text/plain": [
       "[100]"
      ]
     },
     "execution_count": 10,
     "metadata": {},
     "output_type": "execute_result"
    }
   ],
   "source": [
    "p"
   ]
  },
  {
   "cell_type": "code",
   "execution_count": 11,
   "id": "79d188b3",
   "metadata": {},
   "outputs": [
    {
     "data": {
      "text/plain": [
       "[100]"
      ]
     },
     "execution_count": 11,
     "metadata": {},
     "output_type": "execute_result"
    }
   ],
   "source": [
    "p"
   ]
  },
  {
   "cell_type": "code",
   "execution_count": 12,
   "id": "9f1c8158",
   "metadata": {},
   "outputs": [
    {
     "ename": "AttributeError",
     "evalue": "'list' object has no attribute 'add'",
     "output_type": "error",
     "traceback": [
      "\u001b[1;31m---------------------------------------------------------------------------\u001b[0m",
      "\u001b[1;31mAttributeError\u001b[0m                            Traceback (most recent call last)",
      "Input \u001b[1;32mIn [12]\u001b[0m, in \u001b[0;36m<cell line: 1>\u001b[1;34m()\u001b[0m\n\u001b[1;32m----> 1\u001b[0m \u001b[43mp\u001b[49m\u001b[38;5;241;43m.\u001b[39;49m\u001b[43madd\u001b[49m(\u001b[38;5;241m345\u001b[39m)\n",
      "\u001b[1;31mAttributeError\u001b[0m: 'list' object has no attribute 'add'"
     ]
    }
   ],
   "source": [
    "p.add(345)"
   ]
  },
  {
   "cell_type": "code",
   "execution_count": 13,
   "id": "c5e312a6",
   "metadata": {},
   "outputs": [],
   "source": [
    "p = {1,2,3,4}"
   ]
  },
  {
   "cell_type": "code",
   "execution_count": 14,
   "id": "7fe53e94",
   "metadata": {},
   "outputs": [
    {
     "data": {
      "text/plain": [
       "{1, 2, 3, 4}"
      ]
     },
     "execution_count": 14,
     "metadata": {},
     "output_type": "execute_result"
    }
   ],
   "source": [
    "p"
   ]
  },
  {
   "cell_type": "code",
   "execution_count": 18,
   "id": "5a51eadb",
   "metadata": {},
   "outputs": [
    {
     "ename": "AttributeError",
     "evalue": "'set' object has no attribute 'insert'",
     "output_type": "error",
     "traceback": [
      "\u001b[1;31m---------------------------------------------------------------------------\u001b[0m",
      "\u001b[1;31mAttributeError\u001b[0m                            Traceback (most recent call last)",
      "Input \u001b[1;32mIn [18]\u001b[0m, in \u001b[0;36m<cell line: 1>\u001b[1;34m()\u001b[0m\n\u001b[1;32m----> 1\u001b[0m \u001b[43mp\u001b[49m\u001b[38;5;241;43m.\u001b[39;49m\u001b[43minsert\u001b[49m(\u001b[38;5;241m3\u001b[39m,\u001b[38;5;241m300\u001b[39m)\n",
      "\u001b[1;31mAttributeError\u001b[0m: 'set' object has no attribute 'insert'"
     ]
    }
   ],
   "source": [
    "p.insert(3,300)"
   ]
  },
  {
   "cell_type": "code",
   "execution_count": 16,
   "id": "76bfb80e",
   "metadata": {},
   "outputs": [],
   "source": [
    "p1 = []"
   ]
  },
  {
   "cell_type": "code",
   "execution_count": 17,
   "id": "8f44b0c6",
   "metadata": {},
   "outputs": [
    {
     "ename": "AttributeError",
     "evalue": "'list' object has no attribute 'add'",
     "output_type": "error",
     "traceback": [
      "\u001b[1;31m---------------------------------------------------------------------------\u001b[0m",
      "\u001b[1;31mAttributeError\u001b[0m                            Traceback (most recent call last)",
      "Input \u001b[1;32mIn [17]\u001b[0m, in \u001b[0;36m<cell line: 1>\u001b[1;34m()\u001b[0m\n\u001b[1;32m----> 1\u001b[0m \u001b[43mp1\u001b[49m\u001b[38;5;241;43m.\u001b[39;49m\u001b[43madd\u001b[49m(\u001b[38;5;241m34\u001b[39m)\n",
      "\u001b[1;31mAttributeError\u001b[0m: 'list' object has no attribute 'add'"
     ]
    }
   ],
   "source": [
    "p1.add(34)"
   ]
  },
  {
   "cell_type": "code",
   "execution_count": 20,
   "id": "027ddb0b",
   "metadata": {},
   "outputs": [],
   "source": [
    "p = [1,2,3,4]"
   ]
  },
  {
   "cell_type": "code",
   "execution_count": 21,
   "id": "9fea1ba1",
   "metadata": {},
   "outputs": [],
   "source": [
    "p.insert(3,100)"
   ]
  },
  {
   "cell_type": "code",
   "execution_count": 22,
   "id": "69221a3c",
   "metadata": {},
   "outputs": [
    {
     "data": {
      "text/plain": [
       "[1, 2, 3, 100, 4]"
      ]
     },
     "execution_count": 22,
     "metadata": {},
     "output_type": "execute_result"
    }
   ],
   "source": [
    "p"
   ]
  },
  {
   "cell_type": "code",
   "execution_count": 24,
   "id": "ace746d8",
   "metadata": {},
   "outputs": [
    {
     "data": {
      "text/plain": [
       "4"
      ]
     },
     "execution_count": 24,
     "metadata": {},
     "output_type": "execute_result"
    }
   ],
   "source": [
    "len(p)-1"
   ]
  },
  {
   "cell_type": "code",
   "execution_count": 25,
   "id": "07d87232",
   "metadata": {},
   "outputs": [],
   "source": [
    "p.insert(len(p)-1,458)"
   ]
  },
  {
   "cell_type": "code",
   "execution_count": 26,
   "id": "0dda0a2b",
   "metadata": {},
   "outputs": [
    {
     "data": {
      "text/plain": [
       "[1, 2, 3, 100, 458, 4]"
      ]
     },
     "execution_count": 26,
     "metadata": {},
     "output_type": "execute_result"
    }
   ],
   "source": [
    "p"
   ]
  },
  {
   "cell_type": "code",
   "execution_count": 28,
   "id": "10819e55",
   "metadata": {},
   "outputs": [
    {
     "data": {
      "text/plain": [
       "5"
      ]
     },
     "execution_count": 28,
     "metadata": {},
     "output_type": "execute_result"
    }
   ],
   "source": [
    "len(p)-1"
   ]
  },
  {
   "cell_type": "code",
   "execution_count": 29,
   "id": "545e9c67",
   "metadata": {},
   "outputs": [
    {
     "data": {
      "text/plain": [
       "[1, 2, 3, 100, 458, 4]"
      ]
     },
     "execution_count": 29,
     "metadata": {},
     "output_type": "execute_result"
    }
   ],
   "source": [
    "p"
   ]
  },
  {
   "cell_type": "code",
   "execution_count": 30,
   "id": "5e200ad1",
   "metadata": {},
   "outputs": [],
   "source": [
    "p = [1,1,1,5,787,34,756,3,4,67,56,7856,65,6546,54]"
   ]
  },
  {
   "cell_type": "code",
   "execution_count": 31,
   "id": "792d1fe8",
   "metadata": {},
   "outputs": [
    {
     "data": {
      "text/plain": [
       "[1, 1, 1, 5, 787, 34, 756, 3, 4, 67, 56, 7856, 65, 6546, 54]"
      ]
     },
     "execution_count": 31,
     "metadata": {},
     "output_type": "execute_result"
    }
   ],
   "source": [
    "p"
   ]
  },
  {
   "cell_type": "code",
   "execution_count": 32,
   "id": "ce623ad7",
   "metadata": {},
   "outputs": [
    {
     "data": {
      "text/plain": [
       "1"
      ]
     },
     "execution_count": 32,
     "metadata": {},
     "output_type": "execute_result"
    }
   ],
   "source": [
    "p.count(67)"
   ]
  },
  {
   "cell_type": "code",
   "execution_count": 33,
   "id": "eba3f831",
   "metadata": {},
   "outputs": [
    {
     "data": {
      "text/plain": [
       "3"
      ]
     },
     "execution_count": 33,
     "metadata": {},
     "output_type": "execute_result"
    }
   ],
   "source": [
    "p.count(1)"
   ]
  },
  {
   "cell_type": "code",
   "execution_count": null,
   "id": "84fe757a",
   "metadata": {},
   "outputs": [],
   "source": [
    "count --  no of occurance in the list"
   ]
  },
  {
   "cell_type": "code",
   "execution_count": 34,
   "id": "ac132712",
   "metadata": {},
   "outputs": [
    {
     "data": {
      "text/plain": [
       "[1, 1, 1, 5, 787, 34, 756, 3, 4, 67, 56, 7856, 65, 6546, 54]"
      ]
     },
     "execution_count": 34,
     "metadata": {},
     "output_type": "execute_result"
    }
   ],
   "source": [
    "p "
   ]
  },
  {
   "cell_type": "code",
   "execution_count": 35,
   "id": "c59292fe",
   "metadata": {},
   "outputs": [
    {
     "data": {
      "text/plain": [
       "10"
      ]
     },
     "execution_count": 35,
     "metadata": {},
     "output_type": "execute_result"
    }
   ],
   "source": [
    "p.index(56)"
   ]
  },
  {
   "cell_type": "code",
   "execution_count": 36,
   "id": "1acc79e9",
   "metadata": {},
   "outputs": [
    {
     "data": {
      "text/plain": [
       "7856"
      ]
     },
     "execution_count": 36,
     "metadata": {},
     "output_type": "execute_result"
    }
   ],
   "source": [
    "p[11]"
   ]
  },
  {
   "cell_type": "code",
   "execution_count": 37,
   "id": "fb27d63f",
   "metadata": {},
   "outputs": [
    {
     "data": {
      "text/plain": [
       "[1, 1, 1, 5, 787, 34, 756, 3, 4, 67, 56, 7856, 65, 6546, 54]"
      ]
     },
     "execution_count": 37,
     "metadata": {},
     "output_type": "execute_result"
    }
   ],
   "source": [
    "p"
   ]
  },
  {
   "cell_type": "code",
   "execution_count": 38,
   "id": "860f93f6",
   "metadata": {},
   "outputs": [
    {
     "data": {
      "text/plain": [
       "0"
      ]
     },
     "execution_count": 38,
     "metadata": {},
     "output_type": "execute_result"
    }
   ],
   "source": [
    "p.index(1)"
   ]
  },
  {
   "cell_type": "code",
   "execution_count": 41,
   "id": "340a1ef1",
   "metadata": {},
   "outputs": [],
   "source": [
    "p = [1, 5, 787, 34, 756, 3,1,1,1,1,45,54,54,45,1]"
   ]
  },
  {
   "cell_type": "code",
   "execution_count": null,
   "id": "34ad69b8",
   "metadata": {},
   "outputs": [],
   "source": []
  },
  {
   "cell_type": "code",
   "execution_count": 43,
   "id": "11ef1046",
   "metadata": {},
   "outputs": [
    {
     "data": {
      "text/plain": [
       "[1, 5, 787, 34, 756, 3, 1, 1, 1, 1, 45, 54, 54, 45, 1]"
      ]
     },
     "execution_count": 43,
     "metadata": {},
     "output_type": "execute_result"
    }
   ],
   "source": [
    "p"
   ]
  },
  {
   "cell_type": "code",
   "execution_count": 44,
   "id": "4aad6378",
   "metadata": {},
   "outputs": [],
   "source": [
    "p.sort()"
   ]
  },
  {
   "cell_type": "code",
   "execution_count": 45,
   "id": "7787021f",
   "metadata": {},
   "outputs": [
    {
     "data": {
      "text/plain": [
       "[1, 1, 1, 1, 1, 1, 3, 5, 34, 45, 45, 54, 54, 756, 787]"
      ]
     },
     "execution_count": 45,
     "metadata": {},
     "output_type": "execute_result"
    }
   ],
   "source": [
    "p"
   ]
  },
  {
   "cell_type": "code",
   "execution_count": null,
   "id": "b7b346c4",
   "metadata": {},
   "outputs": [],
   "source": [
    "what if list contain hetrogeneous?"
   ]
  },
  {
   "cell_type": "code",
   "execution_count": 46,
   "id": "9b773956",
   "metadata": {},
   "outputs": [],
   "source": [
    "p = [1, 5,'A', 787, 34,45.9,78.95,True,'python','java']"
   ]
  },
  {
   "cell_type": "code",
   "execution_count": 47,
   "id": "98b0d1be",
   "metadata": {},
   "outputs": [
    {
     "ename": "TypeError",
     "evalue": "'<' not supported between instances of 'str' and 'int'",
     "output_type": "error",
     "traceback": [
      "\u001b[1;31m---------------------------------------------------------------------------\u001b[0m",
      "\u001b[1;31mTypeError\u001b[0m                                 Traceback (most recent call last)",
      "Input \u001b[1;32mIn [47]\u001b[0m, in \u001b[0;36m<cell line: 1>\u001b[1;34m()\u001b[0m\n\u001b[1;32m----> 1\u001b[0m \u001b[43mp\u001b[49m\u001b[38;5;241;43m.\u001b[39;49m\u001b[43msort\u001b[49m\u001b[43m(\u001b[49m\u001b[43m)\u001b[49m\n",
      "\u001b[1;31mTypeError\u001b[0m: '<' not supported between instances of 'str' and 'int'"
     ]
    }
   ],
   "source": [
    "p.sort()"
   ]
  },
  {
   "cell_type": "code",
   "execution_count": 48,
   "id": "e27eeaa5",
   "metadata": {},
   "outputs": [],
   "source": [
    "p = [23,75,34,75.9,45.6,354,564]"
   ]
  },
  {
   "cell_type": "code",
   "execution_count": 49,
   "id": "6435a65d",
   "metadata": {},
   "outputs": [],
   "source": [
    "p.sort()"
   ]
  },
  {
   "cell_type": "code",
   "execution_count": 50,
   "id": "a89b7bda",
   "metadata": {},
   "outputs": [
    {
     "data": {
      "text/plain": [
       "[23, 34, 45.6, 75, 75.9, 354, 564]"
      ]
     },
     "execution_count": 50,
     "metadata": {},
     "output_type": "execute_result"
    }
   ],
   "source": [
    "p"
   ]
  },
  {
   "cell_type": "code",
   "execution_count": 51,
   "id": "19a44dfc",
   "metadata": {},
   "outputs": [],
   "source": [
    "p = ['PYTHON','python','java','JAVA','Hadoop','A','B','a']"
   ]
  },
  {
   "cell_type": "code",
   "execution_count": 52,
   "id": "55eb820d",
   "metadata": {},
   "outputs": [],
   "source": [
    "p.sort()"
   ]
  },
  {
   "cell_type": "code",
   "execution_count": 53,
   "id": "6e6e3aa1",
   "metadata": {},
   "outputs": [
    {
     "data": {
      "text/plain": [
       "['A', 'B', 'Hadoop', 'JAVA', 'PYTHON', 'a', 'java', 'python']"
      ]
     },
     "execution_count": 53,
     "metadata": {},
     "output_type": "execute_result"
    }
   ],
   "source": [
    "p"
   ]
  },
  {
   "cell_type": "code",
   "execution_count": null,
   "id": "2039e33c",
   "metadata": {},
   "outputs": [],
   "source": [
    "How ?\n",
    "ASCII -- value  "
   ]
  },
  {
   "cell_type": "code",
   "execution_count": 54,
   "id": "dff8885a",
   "metadata": {},
   "outputs": [],
   "source": [
    "a = 'python'"
   ]
  },
  {
   "cell_type": "code",
   "execution_count": 55,
   "id": "a948eeaf",
   "metadata": {},
   "outputs": [
    {
     "data": {
      "text/plain": [
       "6"
      ]
     },
     "execution_count": 55,
     "metadata": {},
     "output_type": "execute_result"
    }
   ],
   "source": [
    "len(a)"
   ]
  },
  {
   "cell_type": "code",
   "execution_count": 57,
   "id": "8a4b161b",
   "metadata": {},
   "outputs": [
    {
     "data": {
      "text/plain": [
       "str"
      ]
     },
     "execution_count": 57,
     "metadata": {},
     "output_type": "execute_result"
    }
   ],
   "source": [
    "type(a)"
   ]
  },
  {
   "cell_type": "code",
   "execution_count": 58,
   "id": "c44620dc",
   "metadata": {},
   "outputs": [
    {
     "data": {
      "text/plain": [
       "['A', 'B', 'Hadoop', 'JAVA', 'PYTHON', 'a', 'java', 'python']"
      ]
     },
     "execution_count": 58,
     "metadata": {},
     "output_type": "execute_result"
    }
   ],
   "source": [
    "p"
   ]
  },
  {
   "cell_type": "code",
   "execution_count": 60,
   "id": "8b9d0f06",
   "metadata": {},
   "outputs": [
    {
     "data": {
      "text/plain": [
       "65"
      ]
     },
     "execution_count": 60,
     "metadata": {},
     "output_type": "execute_result"
    }
   ],
   "source": [
    "ord('A')  # char to ASCII value"
   ]
  },
  {
   "cell_type": "code",
   "execution_count": 63,
   "id": "236a2837",
   "metadata": {},
   "outputs": [
    {
     "data": {
      "text/plain": [
       "'\\x01'"
      ]
     },
     "execution_count": 63,
     "metadata": {},
     "output_type": "execute_result"
    }
   ],
   "source": [
    "chr(1) # ASCII to char"
   ]
  },
  {
   "cell_type": "code",
   "execution_count": null,
   "id": "62d80a2c",
   "metadata": {},
   "outputs": [],
   "source": [
    "int --> list --> int > int"
   ]
  },
  {
   "cell_type": "code",
   "execution_count": null,
   "id": "e0e54bf5",
   "metadata": {},
   "outputs": [],
   "source": [
    "45454 -- "
   ]
  },
  {
   "cell_type": "code",
   "execution_count": null,
   "id": "e1492ce3",
   "metadata": {},
   "outputs": [],
   "source": [
    "p = [23,64,23,6,45] "
   ]
  },
  {
   "cell_type": "code",
   "execution_count": 64,
   "id": "c997ba66",
   "metadata": {},
   "outputs": [
    {
     "ename": "TypeError",
     "evalue": "'>' not supported between instances of 'str' and 'int'",
     "output_type": "error",
     "traceback": [
      "\u001b[1;31m---------------------------------------------------------------------------\u001b[0m",
      "\u001b[1;31mTypeError\u001b[0m                                 Traceback (most recent call last)",
      "Input \u001b[1;32mIn [64]\u001b[0m, in \u001b[0;36m<cell line: 1>\u001b[1;34m()\u001b[0m\n\u001b[1;32m----> 1\u001b[0m \u001b[38;5;124;43m'\u001b[39;49m\u001b[38;5;124;43mA\u001b[39;49m\u001b[38;5;124;43m'\u001b[39;49m\u001b[43m \u001b[49m\u001b[38;5;241;43m>\u001b[39;49m\u001b[43m \u001b[49m\u001b[38;5;241;43m25\u001b[39;49m\n",
      "\u001b[1;31mTypeError\u001b[0m: '>' not supported between instances of 'str' and 'int'"
     ]
    }
   ],
   "source": [
    "'A' > 25"
   ]
  },
  {
   "cell_type": "code",
   "execution_count": null,
   "id": "edb5f41d",
   "metadata": {},
   "outputs": [],
   "source": [
    "P"
   ]
  },
  {
   "cell_type": "code",
   "execution_count": null,
   "id": "a59a5ee1",
   "metadata": {},
   "outputs": [],
   "source": [
    "P - 78 - 101011"
   ]
  },
  {
   "cell_type": "code",
   "execution_count": null,
   "id": "22c5e824",
   "metadata": {},
   "outputs": [],
   "source": [
    "25 -- 101"
   ]
  },
  {
   "cell_type": "code",
   "execution_count": 65,
   "id": "e63ec78f",
   "metadata": {},
   "outputs": [],
   "source": [
    "p = ['aab','aaz','aaa','aap','abc','atp']"
   ]
  },
  {
   "cell_type": "code",
   "execution_count": 66,
   "id": "062c43ca",
   "metadata": {},
   "outputs": [],
   "source": [
    "p.sort()"
   ]
  },
  {
   "cell_type": "code",
   "execution_count": 67,
   "id": "1e632aa2",
   "metadata": {},
   "outputs": [
    {
     "data": {
      "text/plain": [
       "['aaa', 'aab', 'aap', 'aaz', 'abc', 'atp']"
      ]
     },
     "execution_count": 67,
     "metadata": {},
     "output_type": "execute_result"
    }
   ],
   "source": [
    "p"
   ]
  },
  {
   "cell_type": "code",
   "execution_count": 70,
   "id": "5f09d609",
   "metadata": {},
   "outputs": [
    {
     "data": {
      "text/plain": [
       "97"
      ]
     },
     "execution_count": 70,
     "metadata": {},
     "output_type": "execute_result"
    }
   ],
   "source": [
    "ord('a')"
   ]
  },
  {
   "cell_type": "code",
   "execution_count": 76,
   "id": "d8b31483",
   "metadata": {},
   "outputs": [],
   "source": [
    "p = [1,2,54,6567,45,34]"
   ]
  },
  {
   "cell_type": "code",
   "execution_count": 73,
   "id": "8a57e605",
   "metadata": {},
   "outputs": [
    {
     "data": {
      "text/plain": [
       "[1, 2, 54, 6567, 45, 34]"
      ]
     },
     "execution_count": 73,
     "metadata": {},
     "output_type": "execute_result"
    }
   ],
   "source": [
    "p"
   ]
  },
  {
   "cell_type": "code",
   "execution_count": null,
   "id": "53a026b2",
   "metadata": {},
   "outputs": [],
   "source": [
    "p --  sort  -- reverse"
   ]
  },
  {
   "cell_type": "code",
   "execution_count": 79,
   "id": "b5fc4a42",
   "metadata": {},
   "outputs": [],
   "source": [
    "p.sort(reverse=True)"
   ]
  },
  {
   "cell_type": "code",
   "execution_count": 80,
   "id": "10202c0a",
   "metadata": {},
   "outputs": [
    {
     "data": {
      "text/plain": [
       "[6567, 54, 45, 34, 2, 1]"
      ]
     },
     "execution_count": 80,
     "metadata": {},
     "output_type": "execute_result"
    }
   ],
   "source": [
    "p"
   ]
  },
  {
   "cell_type": "code",
   "execution_count": 82,
   "id": "3a51ad90",
   "metadata": {},
   "outputs": [],
   "source": [
    "p = [100,'aab','aaz','aaa','aap','abc','atp',343,23,534,53]"
   ]
  },
  {
   "cell_type": "code",
   "execution_count": 83,
   "id": "ba72cec2",
   "metadata": {},
   "outputs": [],
   "source": [
    "p.reverse()"
   ]
  },
  {
   "cell_type": "code",
   "execution_count": 84,
   "id": "e837b66d",
   "metadata": {},
   "outputs": [
    {
     "data": {
      "text/plain": [
       "[53, 534, 23, 343, 'atp', 'abc', 'aap', 'aaa', 'aaz', 'aab', 100]"
      ]
     },
     "execution_count": 84,
     "metadata": {},
     "output_type": "execute_result"
    }
   ],
   "source": [
    "p"
   ]
  },
  {
   "cell_type": "code",
   "execution_count": null,
   "id": "135fe1d5",
   "metadata": {},
   "outputs": [],
   "source": [
    "copy -- create new copy"
   ]
  },
  {
   "cell_type": "code",
   "execution_count": null,
   "id": "3633ac49",
   "metadata": {},
   "outputs": [],
   "source": []
  },
  {
   "cell_type": "code",
   "execution_count": 85,
   "id": "c24f82e6",
   "metadata": {},
   "outputs": [
    {
     "data": {
      "text/plain": [
       "[53, 534, 23, 343, 'atp', 'abc', 'aap', 'aaa', 'aaz', 'aab', 100]"
      ]
     },
     "execution_count": 85,
     "metadata": {},
     "output_type": "execute_result"
    }
   ],
   "source": [
    "p"
   ]
  },
  {
   "cell_type": "code",
   "execution_count": 86,
   "id": "4571a157",
   "metadata": {},
   "outputs": [],
   "source": [
    "p11 = p.copy()"
   ]
  },
  {
   "cell_type": "code",
   "execution_count": 87,
   "id": "85c421a3",
   "metadata": {},
   "outputs": [
    {
     "data": {
      "text/plain": [
       "[53, 534, 23, 343, 'atp', 'abc', 'aap', 'aaa', 'aaz', 'aab', 100]"
      ]
     },
     "execution_count": 87,
     "metadata": {},
     "output_type": "execute_result"
    }
   ],
   "source": [
    "p11"
   ]
  },
  {
   "cell_type": "code",
   "execution_count": null,
   "id": "5fde9402",
   "metadata": {},
   "outputs": [],
   "source": []
  }
 ],
 "metadata": {
  "kernelspec": {
   "display_name": "Python 3 (ipykernel)",
   "language": "python",
   "name": "python3"
  },
  "language_info": {
   "codemirror_mode": {
    "name": "ipython",
    "version": 3
   },
   "file_extension": ".py",
   "mimetype": "text/x-python",
   "name": "python",
   "nbconvert_exporter": "python",
   "pygments_lexer": "ipython3",
   "version": "3.9.12"
  }
 },
 "nbformat": 4,
 "nbformat_minor": 5
}
